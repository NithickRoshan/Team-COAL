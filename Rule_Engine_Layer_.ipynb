{
  "nbformat": 4,
  "nbformat_minor": 0,
  "metadata": {
    "colab": {
      "provenance": [],
      "authorship_tag": "ABX9TyOhibQ276o0iKTFq3sBUQ1G",
      "include_colab_link": true
    },
    "kernelspec": {
      "name": "python3",
      "display_name": "Python 3"
    },
    "language_info": {
      "name": "python"
    }
  },
  "cells": [
    {
      "cell_type": "markdown",
      "metadata": {
        "id": "view-in-github",
        "colab_type": "text"
      },
      "source": [
        "<a href=\"https://colab.research.google.com/github/NithickRoshan/Team-COAL/blob/main/Rule_Engine_Layer_.ipynb\" target=\"_parent\"><img src=\"https://colab.research.google.com/assets/colab-badge.svg\" alt=\"Open In Colab\"/></a>"
      ]
    },
    {
      "cell_type": "code",
      "source": [
        "!pip install PyPDF2"
      ],
      "metadata": {
        "colab": {
          "base_uri": "https://localhost:8080/"
        },
        "id": "Svo1Ph87deMu",
        "outputId": "d0e4ff27-1c6b-45bd-ef8d-1c33befce663"
      },
      "execution_count": null,
      "outputs": [
        {
          "output_type": "stream",
          "name": "stdout",
          "text": [
            "Collecting PyPDF2\n",
            "  Downloading pypdf2-3.0.1-py3-none-any.whl.metadata (6.8 kB)\n",
            "Downloading pypdf2-3.0.1-py3-none-any.whl (232 kB)\n",
            "\u001b[?25l   \u001b[90m━━━━━━━━━━━━━━━━━━━━━━━━━━━━━━━━━━━━━━━━\u001b[0m \u001b[32m0.0/232.6 kB\u001b[0m \u001b[31m?\u001b[0m eta \u001b[36m-:--:--\u001b[0m\r\u001b[2K   \u001b[90m━━━━━━━━━━━━━━━━━━━━━━━━━━━━━━━━━━━━━━━━\u001b[0m \u001b[32m232.6/232.6 kB\u001b[0m \u001b[31m7.6 MB/s\u001b[0m eta \u001b[36m0:00:00\u001b[0m\n",
            "\u001b[?25hInstalling collected packages: PyPDF2\n",
            "Successfully installed PyPDF2-3.0.1\n"
          ]
        }
      ]
    },
    {
      "cell_type": "code",
      "source": [
        "import json\n",
        "import re\n",
        "import PyPDF2\n",
        "\n",
        "\n",
        "# Step 1: Extract text from PDF\n",
        "\n",
        "def extract_text_from_pdf(pdf_path):\n",
        "    text_sections = []\n",
        "    with open(pdf_path, \"rb\") as f:\n",
        "        reader = PyPDF2.PdfReader(f)\n",
        "        for page in reader.pages:\n",
        "            text = page.extract_text()\n",
        "            if text and len(text.strip()) > 50:\n",
        "                text_sections.append(text.strip())\n",
        "    return text_sections\n",
        "\n",
        "# Step 2: Define JSON Rules\n",
        "\n",
        "rules_json = \"\"\"\n",
        "{\n",
        "  \"max_overhead_percent\": 10,\n",
        "  \"max_duration_months\": 24,\n",
        "  \"min_budget_lakhs\": 5,\n",
        "  \"max_budget_lakhs\": 100\n",
        "}\n",
        "\"\"\"\n",
        "rules = json.loads(rules_json)\n",
        "\n",
        "\n",
        "# Step 3: Extract Proposal Data\n",
        "\n",
        "def extract_proposal_data(text):\n",
        "    \"\"\"\n",
        "    Very basic regex-based extraction.\n",
        "    Example phrases expected:\n",
        "      - \"Budget: 10L\"\n",
        "      - \"Overhead: 1.5L\"\n",
        "      - \"Duration: 18 months\"\n",
        "    \"\"\"\n",
        "    budget_match = re.search(r\"Budget[:\\s]*([\\d\\.]+)\\s*L\", text, re.IGNORECASE)\n",
        "    overhead_match = re.search(r\"Overhead[:\\s]*([\\d\\.]+)\\s*L\", text, re.IGNORECASE)\n",
        "    duration_match = re.search(r\"Duration[:\\s]*([\\d\\.]+)\\s*months?\", text, re.IGNORECASE)\n",
        "\n",
        "    proposal = {\n",
        "        \"budget_lakhs\": float(budget_match.group(1)) if budget_match else None,\n",
        "        \"overhead_lakhs\": float(overhead_match.group(1)) if overhead_match else None,\n",
        "        \"duration_months\": int(duration_match.group(1)) if duration_match else None\n",
        "    }\n",
        "    return proposal\n",
        "\n",
        "\n",
        "# Step 4: Rule Checker\n",
        "\n",
        "def validate_proposal(proposal, rules):\n",
        "    results = []\n",
        "    passed = 0\n",
        "    total_rules = 0\n",
        "\n",
        "    # Rule 1: Overhead %\n",
        "    if proposal[\"budget_lakhs\"] and proposal[\"overhead_lakhs\"]:\n",
        "        total_rules += 1\n",
        "        overhead_percent = (proposal[\"overhead_lakhs\"] / proposal[\"budget_lakhs\"]) * 100\n",
        "        if overhead_percent <= rules[\"max_overhead_percent\"]:\n",
        "            results.append(f\"✅ Overhead check PASSED ({overhead_percent:.1f}% ≤ {rules['max_overhead_percent']}%)\")\n",
        "            passed += 1\n",
        "        else:\n",
        "            results.append(f\"❌ Overhead check FAILED ({overhead_percent:.1f}% > {rules['max_overhead_percent']}%)\")\n",
        "\n",
        "    # Rule 2: Duration\n",
        "    if proposal[\"duration_months\"]:\n",
        "        total_rules += 1\n",
        "        if proposal[\"duration_months\"] <= rules[\"max_duration_months\"]:\n",
        "            results.append(f\"✅ Duration check PASSED ({proposal['duration_months']} ≤ {rules['max_duration_months']} months)\")\n",
        "            passed += 1\n",
        "        else:\n",
        "            results.append(f\"❌ Duration check FAILED ({proposal['duration_months']} > {rules['max_duration_months']} months)\")\n",
        "\n",
        "    # Rule 3: Min Budget\n",
        "    if proposal[\"budget_lakhs\"]:\n",
        "        total_rules += 1\n",
        "        if proposal[\"budget_lakhs\"] >= rules[\"min_budget_lakhs\"]:\n",
        "            results.append(f\"✅ Min Budget check PASSED ({proposal['budget_lakhs']} ≥ {rules['min_budget_lakhs']} lakhs)\")\n",
        "            passed += 1\n",
        "        else:\n",
        "            results.append(f\"❌ Min Budget check FAILED ({proposal['budget_lakhs']} < {rules['min_budget_lakhs']} lakhs)\")\n",
        "\n",
        "    # Rule 4: Max Budget\n",
        "    if proposal[\"budget_lakhs\"]:\n",
        "        total_rules += 1\n",
        "        if proposal[\"budget_lakhs\"] <= rules[\"max_budget_lakhs\"]:\n",
        "            results.append(f\"✅ Max Budget check PASSED ({proposal['budget_lakhs']} ≤ {rules['max_budget_lakhs']} lakhs)\")\n",
        "            passed += 1\n",
        "        else:\n",
        "            results.append(f\"❌ Max Budget check FAILED ({proposal['budget_lakhs']} > {rules['max_budget_lakhs']} lakhs)\")\n",
        "\n",
        "    compliance_score = (passed / total_rules) * 100 if total_rules > 0 else 0\n",
        "    return results, compliance_score\n",
        "\n",
        "\n",
        "# Step 5: Run on PDF\n",
        "\n",
        "if __name__ == \"__main__\":\n",
        "    pdf_path = \"Business Proposals.pdf\"\n",
        "    sections = extract_text_from_pdf(pdf_path)\n",
        "\n",
        "    # Demo: simulate adding budget info inside a proposal section\n",
        "    # (since your PDF doesn’t have real numbers, we inject one)\n",
        "    test_text = sections[0] + \"\\nBudget: 10L\\nOverhead: 1.5L\\nDuration: 18 months\"\n",
        "    proposal = extract_proposal_data(test_text)\n",
        "\n",
        "    results, score = validate_proposal(proposal, rules)\n",
        "\n",
        "    print(\"---- Extracted Proposal Data ----\")\n",
        "    print(proposal)\n",
        "\n",
        "    print(\"\\n---- Rule Validation Report ----\")\n",
        "    for r in results:\n",
        "        print(r)\n",
        "\n",
        "    print(f\"\\n✅ Compliance Score: {score:.1f}%\")\n"
      ],
      "metadata": {
        "colab": {
          "base_uri": "https://localhost:8080/"
        },
        "id": "cB5jz3NBdQWI",
        "outputId": "2ed39942-3b8e-4919-b0bd-28d5abc93aff"
      },
      "execution_count": null,
      "outputs": [
        {
          "output_type": "stream",
          "name": "stderr",
          "text": [
            "WARNING:PyPDF2._reader:incorrect startxref pointer(1)\n"
          ]
        },
        {
          "output_type": "stream",
          "name": "stdout",
          "text": [
            "---- Extracted Proposal Data ----\n",
            "{'budget_lakhs': 10.0, 'overhead_lakhs': 1.5, 'duration_months': 18}\n",
            "\n",
            "---- Rule Validation Report ----\n",
            "❌ Overhead check FAILED (15.0% > 10%)\n",
            "✅ Duration check PASSED (18 ≤ 24 months)\n",
            "✅ Min Budget check PASSED (10.0 ≥ 5 lakhs)\n",
            "✅ Max Budget check PASSED (10.0 ≤ 100 lakhs)\n",
            "\n",
            "✅ Compliance Score: 75.0%\n"
          ]
        }
      ]
    }
  ]
}